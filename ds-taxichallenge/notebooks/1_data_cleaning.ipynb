{
 "cells": [
  {
   "cell_type": "markdown",
   "id": "0f30c026-f238-407b-9752-8a00e5c963f1",
   "metadata": {},
   "source": [
    "# Data Cleaning"
   ]
  },
  {
   "cell_type": "markdown",
   "id": "abad4c1c-4a43-4e08-9b92-6ad365f90b24",
   "metadata": {},
   "source": [
    "<div style=\"background-color: rgb(33,150,243); padding: 15px; border-radius: 5px;\">\n",
    "This notebook does the initial exploration of the data and cleans it before moving to EDA and feature engineering.\n",
    "\n",
    "Dataset information:\n",
    "1. **Taxi Trip Data**: Historical data detailing individual taxi trips.\n",
    "- `tpep_pickup_datetime`: The date and time when the meter was engaged.\n",
    "   - `tpep_dropoff_datetime`: The date and time when the meter was disengaged.\n",
    "   - `passenger_count`: The number of passengers in the vehicle. This is a driver-entered value.\n",
    "   - `trip_distance`: The elapsed trip distance in miles reported by the taximeter.\n",
    "   - `PULocationID`: TLC Taxi Zone in which the taximeter was engaged.\n",
    "   - `DOLocationID`: TLC Taxi Zone in which the taximeter was disengaged.\n",
    "\n",
    "2. **Weather Data**: Hourly weather observations corresponding to the same time period as the taxi trip data.\n",
    "   - `temperature`: Air temperature in °C.\n",
    "   - `precipitation`: Total precipitation (rain, showers, snow) sum of the preceding hour in mm.\n",
    "   - `rain`: Only liquid precipitation of the preceding hour including local showers and rain from large-scale systems in mm.\n",
    "   - `snowfall`: Snowfall amount of the preceding hour in cm.\n",
    "</div>"
   ]
  },
  {
   "cell_type": "markdown",
   "id": "74c812d1-1cf4-4290-b91d-dfce477eca43",
   "metadata": {},
   "source": [
    "## Libraries"
   ]
  },
  {
   "cell_type": "code",
   "execution_count": 1,
   "id": "7c3a7dc5-c009-4529-a5c7-7a902ed1f429",
   "metadata": {},
   "outputs": [],
   "source": [
    "import pandas as pd\n",
    "import numpy as np\n",
    "import matplotlib.pyplot as plt\n",
    "from datetime import timedelta"
   ]
  },
  {
   "cell_type": "markdown",
   "id": "95ff2bb5-e140-406f-ac3b-95ef44a753a4",
   "metadata": {},
   "source": [
    "## Initial Data Exploration"
   ]
  },
  {
   "cell_type": "markdown",
   "id": "470b9630-0097-4d45-a1bc-cf62abdc140a",
   "metadata": {},
   "source": [
    "### 1. Zone Data"
   ]
  },
  {
   "cell_type": "code",
   "execution_count": 2,
   "id": "353ca1d1-c20d-4e6a-a1b6-66acd1a83be8",
   "metadata": {},
   "outputs": [],
   "source": [
    "zone_df = pd.read_csv('../data/raw/taxi_zone_lookup.csv')"
   ]
  },
  {
   "cell_type": "code",
   "execution_count": 3,
   "id": "cacfef7c-64db-4981-89cd-e5dd2b46cacb",
   "metadata": {},
   "outputs": [
    {
     "data": {
      "text/html": [
       "<div>\n",
       "<style scoped>\n",
       "    .dataframe tbody tr th:only-of-type {\n",
       "        vertical-align: middle;\n",
       "    }\n",
       "\n",
       "    .dataframe tbody tr th {\n",
       "        vertical-align: top;\n",
       "    }\n",
       "\n",
       "    .dataframe thead th {\n",
       "        text-align: right;\n",
       "    }\n",
       "</style>\n",
       "<table border=\"1\" class=\"dataframe\">\n",
       "  <thead>\n",
       "    <tr style=\"text-align: right;\">\n",
       "      <th></th>\n",
       "      <th>LocationID</th>\n",
       "      <th>Borough</th>\n",
       "      <th>Zone</th>\n",
       "      <th>service_zone</th>\n",
       "    </tr>\n",
       "  </thead>\n",
       "  <tbody>\n",
       "    <tr>\n",
       "      <th>0</th>\n",
       "      <td>1</td>\n",
       "      <td>EWR</td>\n",
       "      <td>Newark Airport</td>\n",
       "      <td>EWR</td>\n",
       "    </tr>\n",
       "    <tr>\n",
       "      <th>1</th>\n",
       "      <td>2</td>\n",
       "      <td>Queens</td>\n",
       "      <td>Jamaica Bay</td>\n",
       "      <td>Boro Zone</td>\n",
       "    </tr>\n",
       "    <tr>\n",
       "      <th>2</th>\n",
       "      <td>3</td>\n",
       "      <td>Bronx</td>\n",
       "      <td>Allerton/Pelham Gardens</td>\n",
       "      <td>Boro Zone</td>\n",
       "    </tr>\n",
       "    <tr>\n",
       "      <th>3</th>\n",
       "      <td>4</td>\n",
       "      <td>Manhattan</td>\n",
       "      <td>Alphabet City</td>\n",
       "      <td>Yellow Zone</td>\n",
       "    </tr>\n",
       "    <tr>\n",
       "      <th>4</th>\n",
       "      <td>5</td>\n",
       "      <td>Staten Island</td>\n",
       "      <td>Arden Heights</td>\n",
       "      <td>Boro Zone</td>\n",
       "    </tr>\n",
       "  </tbody>\n",
       "</table>\n",
       "</div>"
      ],
      "text/plain": [
       "   LocationID        Borough                     Zone service_zone\n",
       "0           1            EWR           Newark Airport          EWR\n",
       "1           2         Queens              Jamaica Bay    Boro Zone\n",
       "2           3          Bronx  Allerton/Pelham Gardens    Boro Zone\n",
       "3           4      Manhattan            Alphabet City  Yellow Zone\n",
       "4           5  Staten Island            Arden Heights    Boro Zone"
      ]
     },
     "execution_count": 3,
     "metadata": {},
     "output_type": "execute_result"
    }
   ],
   "source": [
    "zone_df.head()"
   ]
  },
  {
   "cell_type": "code",
   "execution_count": 4,
   "id": "19390bca-f40b-4cc0-9e4e-36c83cee382b",
   "metadata": {},
   "outputs": [
    {
     "name": "stdout",
     "output_type": "stream",
     "text": [
      "<class 'pandas.core.frame.DataFrame'>\n",
      "RangeIndex: 265 entries, 0 to 264\n",
      "Data columns (total 4 columns):\n",
      " #   Column        Non-Null Count  Dtype \n",
      "---  ------        --------------  ----- \n",
      " 0   LocationID    265 non-null    int64 \n",
      " 1   Borough       264 non-null    object\n",
      " 2   Zone          264 non-null    object\n",
      " 3   service_zone  263 non-null    object\n",
      "dtypes: int64(1), object(3)\n",
      "memory usage: 8.4+ KB\n"
     ]
    }
   ],
   "source": [
    "zone_df.info()"
   ]
  },
  {
   "cell_type": "code",
   "execution_count": 5,
   "id": "36e63378-8856-4308-88b3-747e4ea9695b",
   "metadata": {},
   "outputs": [
    {
     "data": {
      "text/html": [
       "<div>\n",
       "<style scoped>\n",
       "    .dataframe tbody tr th:only-of-type {\n",
       "        vertical-align: middle;\n",
       "    }\n",
       "\n",
       "    .dataframe tbody tr th {\n",
       "        vertical-align: top;\n",
       "    }\n",
       "\n",
       "    .dataframe thead th {\n",
       "        text-align: right;\n",
       "    }\n",
       "</style>\n",
       "<table border=\"1\" class=\"dataframe\">\n",
       "  <thead>\n",
       "    <tr style=\"text-align: right;\">\n",
       "      <th></th>\n",
       "      <th>LocationID</th>\n",
       "    </tr>\n",
       "  </thead>\n",
       "  <tbody>\n",
       "    <tr>\n",
       "      <th>count</th>\n",
       "      <td>265.000000</td>\n",
       "    </tr>\n",
       "    <tr>\n",
       "      <th>mean</th>\n",
       "      <td>133.000000</td>\n",
       "    </tr>\n",
       "    <tr>\n",
       "      <th>std</th>\n",
       "      <td>76.643112</td>\n",
       "    </tr>\n",
       "    <tr>\n",
       "      <th>min</th>\n",
       "      <td>1.000000</td>\n",
       "    </tr>\n",
       "    <tr>\n",
       "      <th>25%</th>\n",
       "      <td>67.000000</td>\n",
       "    </tr>\n",
       "    <tr>\n",
       "      <th>50%</th>\n",
       "      <td>133.000000</td>\n",
       "    </tr>\n",
       "    <tr>\n",
       "      <th>75%</th>\n",
       "      <td>199.000000</td>\n",
       "    </tr>\n",
       "    <tr>\n",
       "      <th>max</th>\n",
       "      <td>265.000000</td>\n",
       "    </tr>\n",
       "  </tbody>\n",
       "</table>\n",
       "</div>"
      ],
      "text/plain": [
       "       LocationID\n",
       "count  265.000000\n",
       "mean   133.000000\n",
       "std     76.643112\n",
       "min      1.000000\n",
       "25%     67.000000\n",
       "50%    133.000000\n",
       "75%    199.000000\n",
       "max    265.000000"
      ]
     },
     "execution_count": 5,
     "metadata": {},
     "output_type": "execute_result"
    }
   ],
   "source": [
    "zone_df.describe()"
   ]
  },
  {
   "cell_type": "code",
   "execution_count": 6,
   "id": "9ac900b0-c294-4403-9bf4-f34898c24b04",
   "metadata": {},
   "outputs": [
    {
     "data": {
      "text/plain": [
       "0"
      ]
     },
     "execution_count": 6,
     "metadata": {},
     "output_type": "execute_result"
    }
   ],
   "source": [
    "zone_df.duplicated().sum()"
   ]
  },
  {
   "cell_type": "code",
   "execution_count": 7,
   "id": "8417b263-f12a-4be6-b1d4-5b6517ed600c",
   "metadata": {},
   "outputs": [
    {
     "data": {
      "text/plain": [
       "LocationID      0\n",
       "Borough         1\n",
       "Zone            1\n",
       "service_zone    2\n",
       "dtype: int64"
      ]
     },
     "execution_count": 7,
     "metadata": {},
     "output_type": "execute_result"
    }
   ],
   "source": [
    "zone_df.isna().sum()"
   ]
  },
  {
   "cell_type": "code",
   "execution_count": 8,
   "id": "1e04fcd5-0f2e-4c82-aaef-7915e2188a46",
   "metadata": {},
   "outputs": [
    {
     "data": {
      "text/plain": [
       "Borough\n",
       "Queens           69\n",
       "Manhattan        69\n",
       "Brooklyn         61\n",
       "Bronx            43\n",
       "Staten Island    20\n",
       "EWR               1\n",
       "Unknown           1\n",
       "NaN               1\n",
       "Name: count, dtype: int64"
      ]
     },
     "execution_count": 8,
     "metadata": {},
     "output_type": "execute_result"
    }
   ],
   "source": [
    "zone_df.Borough.value_counts(dropna=False)"
   ]
  },
  {
   "cell_type": "code",
   "execution_count": 9,
   "id": "2f9dba15-ce5d-4154-8b89-316a4144a122",
   "metadata": {
    "scrolled": true
   },
   "outputs": [
    {
     "data": {
      "text/plain": [
       "{1: 'EWR',\n",
       " 2: 'Queens',\n",
       " 3: 'Bronx',\n",
       " 4: 'Manhattan',\n",
       " 5: 'Staten Island',\n",
       " 6: 'Staten Island',\n",
       " 7: 'Queens',\n",
       " 8: 'Queens',\n",
       " 9: 'Queens',\n",
       " 10: 'Queens',\n",
       " 11: 'Brooklyn',\n",
       " 12: 'Manhattan',\n",
       " 13: 'Manhattan',\n",
       " 14: 'Brooklyn',\n",
       " 15: 'Queens',\n",
       " 16: 'Queens',\n",
       " 17: 'Brooklyn',\n",
       " 18: 'Bronx',\n",
       " 19: 'Queens',\n",
       " 20: 'Bronx',\n",
       " 21: 'Brooklyn',\n",
       " 22: 'Brooklyn',\n",
       " 23: 'Staten Island',\n",
       " 24: 'Manhattan',\n",
       " 25: 'Brooklyn',\n",
       " 26: 'Brooklyn',\n",
       " 27: 'Queens',\n",
       " 28: 'Queens',\n",
       " 29: 'Brooklyn',\n",
       " 30: 'Queens',\n",
       " 31: 'Bronx',\n",
       " 32: 'Bronx',\n",
       " 33: 'Brooklyn',\n",
       " 34: 'Brooklyn',\n",
       " 35: 'Brooklyn',\n",
       " 36: 'Brooklyn',\n",
       " 37: 'Brooklyn',\n",
       " 38: 'Queens',\n",
       " 39: 'Brooklyn',\n",
       " 40: 'Brooklyn',\n",
       " 41: 'Manhattan',\n",
       " 42: 'Manhattan',\n",
       " 43: 'Manhattan',\n",
       " 44: 'Staten Island',\n",
       " 45: 'Manhattan',\n",
       " 46: 'Bronx',\n",
       " 47: 'Bronx',\n",
       " 48: 'Manhattan',\n",
       " 49: 'Brooklyn',\n",
       " 50: 'Manhattan',\n",
       " 51: 'Bronx',\n",
       " 52: 'Brooklyn',\n",
       " 53: 'Queens',\n",
       " 54: 'Brooklyn',\n",
       " 55: 'Brooklyn',\n",
       " 56: 'Queens',\n",
       " 57: 'Queens',\n",
       " 58: 'Bronx',\n",
       " 59: 'Bronx',\n",
       " 60: 'Bronx',\n",
       " 61: 'Brooklyn',\n",
       " 62: 'Brooklyn',\n",
       " 63: 'Brooklyn',\n",
       " 64: 'Queens',\n",
       " 65: 'Brooklyn',\n",
       " 66: 'Brooklyn',\n",
       " 67: 'Brooklyn',\n",
       " 68: 'Manhattan',\n",
       " 69: 'Bronx',\n",
       " 70: 'Queens',\n",
       " 71: 'Brooklyn',\n",
       " 72: 'Brooklyn',\n",
       " 73: 'Queens',\n",
       " 74: 'Manhattan',\n",
       " 75: 'Manhattan',\n",
       " 76: 'Brooklyn',\n",
       " 77: 'Brooklyn',\n",
       " 78: 'Bronx',\n",
       " 79: 'Manhattan',\n",
       " 80: 'Brooklyn',\n",
       " 81: 'Bronx',\n",
       " 82: 'Queens',\n",
       " 83: 'Queens',\n",
       " 84: 'Staten Island',\n",
       " 85: 'Brooklyn',\n",
       " 86: 'Queens',\n",
       " 87: 'Manhattan',\n",
       " 88: 'Manhattan',\n",
       " 89: 'Brooklyn',\n",
       " 90: 'Manhattan',\n",
       " 91: 'Brooklyn',\n",
       " 92: 'Queens',\n",
       " 93: 'Queens',\n",
       " 94: 'Bronx',\n",
       " 95: 'Queens',\n",
       " 96: 'Queens',\n",
       " 97: 'Brooklyn',\n",
       " 98: 'Queens',\n",
       " 99: 'Staten Island',\n",
       " 100: 'Manhattan',\n",
       " 101: 'Queens',\n",
       " 102: 'Queens',\n",
       " 103: 'Manhattan',\n",
       " 104: 'Manhattan',\n",
       " 105: 'Manhattan',\n",
       " 106: 'Brooklyn',\n",
       " 107: 'Manhattan',\n",
       " 108: 'Brooklyn',\n",
       " 109: 'Staten Island',\n",
       " 110: 'Staten Island',\n",
       " 111: 'Brooklyn',\n",
       " 112: 'Brooklyn',\n",
       " 113: 'Manhattan',\n",
       " 114: 'Manhattan',\n",
       " 115: 'Staten Island',\n",
       " 116: 'Manhattan',\n",
       " 117: 'Queens',\n",
       " 118: 'Staten Island',\n",
       " 119: 'Bronx',\n",
       " 120: 'Manhattan',\n",
       " 121: 'Queens',\n",
       " 122: 'Queens',\n",
       " 123: 'Brooklyn',\n",
       " 124: 'Queens',\n",
       " 125: 'Manhattan',\n",
       " 126: 'Bronx',\n",
       " 127: 'Manhattan',\n",
       " 128: 'Manhattan',\n",
       " 129: 'Queens',\n",
       " 130: 'Queens',\n",
       " 131: 'Queens',\n",
       " 132: 'Queens',\n",
       " 133: 'Brooklyn',\n",
       " 134: 'Queens',\n",
       " 135: 'Queens',\n",
       " 136: 'Bronx',\n",
       " 137: 'Manhattan',\n",
       " 138: 'Queens',\n",
       " 139: 'Queens',\n",
       " 140: 'Manhattan',\n",
       " 141: 'Manhattan',\n",
       " 142: 'Manhattan',\n",
       " 143: 'Manhattan',\n",
       " 144: 'Manhattan',\n",
       " 145: 'Queens',\n",
       " 146: 'Queens',\n",
       " 147: 'Bronx',\n",
       " 148: 'Manhattan',\n",
       " 149: 'Brooklyn',\n",
       " 150: 'Brooklyn',\n",
       " 151: 'Manhattan',\n",
       " 152: 'Manhattan',\n",
       " 153: 'Manhattan',\n",
       " 154: 'Brooklyn',\n",
       " 155: 'Brooklyn',\n",
       " 156: 'Staten Island',\n",
       " 157: 'Queens',\n",
       " 158: 'Manhattan',\n",
       " 159: 'Bronx',\n",
       " 160: 'Queens',\n",
       " 161: 'Manhattan',\n",
       " 162: 'Manhattan',\n",
       " 163: 'Manhattan',\n",
       " 164: 'Manhattan',\n",
       " 165: 'Brooklyn',\n",
       " 166: 'Manhattan',\n",
       " 167: 'Bronx',\n",
       " 168: 'Bronx',\n",
       " 169: 'Bronx',\n",
       " 170: 'Manhattan',\n",
       " 171: 'Queens',\n",
       " 172: 'Staten Island',\n",
       " 173: 'Queens',\n",
       " 174: 'Bronx',\n",
       " 175: 'Queens',\n",
       " 176: 'Staten Island',\n",
       " 177: 'Brooklyn',\n",
       " 178: 'Brooklyn',\n",
       " 179: 'Queens',\n",
       " 180: 'Queens',\n",
       " 181: 'Brooklyn',\n",
       " 182: 'Bronx',\n",
       " 183: 'Bronx',\n",
       " 184: 'Bronx',\n",
       " 185: 'Bronx',\n",
       " 186: 'Manhattan',\n",
       " 187: 'Staten Island',\n",
       " 188: 'Brooklyn',\n",
       " 189: 'Brooklyn',\n",
       " 190: 'Brooklyn',\n",
       " 191: 'Queens',\n",
       " 192: 'Queens',\n",
       " 193: 'Queens',\n",
       " 194: 'Manhattan',\n",
       " 195: 'Brooklyn',\n",
       " 196: 'Queens',\n",
       " 197: 'Queens',\n",
       " 198: 'Queens',\n",
       " 199: 'Bronx',\n",
       " 200: 'Bronx',\n",
       " 201: 'Queens',\n",
       " 202: 'Manhattan',\n",
       " 203: 'Queens',\n",
       " 204: 'Staten Island',\n",
       " 205: 'Queens',\n",
       " 206: 'Staten Island',\n",
       " 207: 'Queens',\n",
       " 208: 'Bronx',\n",
       " 209: 'Manhattan',\n",
       " 210: 'Brooklyn',\n",
       " 211: 'Manhattan',\n",
       " 212: 'Bronx',\n",
       " 213: 'Bronx',\n",
       " 214: 'Staten Island',\n",
       " 215: 'Queens',\n",
       " 216: 'Queens',\n",
       " 217: 'Brooklyn',\n",
       " 218: 'Queens',\n",
       " 219: 'Queens',\n",
       " 220: 'Bronx',\n",
       " 221: 'Staten Island',\n",
       " 222: 'Brooklyn',\n",
       " 223: 'Queens',\n",
       " 224: 'Manhattan',\n",
       " 225: 'Brooklyn',\n",
       " 226: 'Queens',\n",
       " 227: 'Brooklyn',\n",
       " 228: 'Brooklyn',\n",
       " 229: 'Manhattan',\n",
       " 230: 'Manhattan',\n",
       " 231: 'Manhattan',\n",
       " 232: 'Manhattan',\n",
       " 233: 'Manhattan',\n",
       " 234: 'Manhattan',\n",
       " 235: 'Bronx',\n",
       " 236: 'Manhattan',\n",
       " 237: 'Manhattan',\n",
       " 238: 'Manhattan',\n",
       " 239: 'Manhattan',\n",
       " 240: 'Bronx',\n",
       " 241: 'Bronx',\n",
       " 242: 'Bronx',\n",
       " 243: 'Manhattan',\n",
       " 244: 'Manhattan',\n",
       " 245: 'Staten Island',\n",
       " 246: 'Manhattan',\n",
       " 247: 'Bronx',\n",
       " 248: 'Bronx',\n",
       " 249: 'Manhattan',\n",
       " 250: 'Bronx',\n",
       " 251: 'Staten Island',\n",
       " 252: 'Queens',\n",
       " 253: 'Queens',\n",
       " 254: 'Bronx',\n",
       " 255: 'Brooklyn',\n",
       " 256: 'Brooklyn',\n",
       " 257: 'Brooklyn',\n",
       " 258: 'Queens',\n",
       " 259: 'Bronx',\n",
       " 260: 'Queens',\n",
       " 261: 'Manhattan',\n",
       " 262: 'Manhattan',\n",
       " 263: 'Manhattan',\n",
       " 264: 'Unknown',\n",
       " 265: nan}"
      ]
     },
     "execution_count": 9,
     "metadata": {},
     "output_type": "execute_result"
    }
   ],
   "source": [
    "zone_df.set_index('LocationID')['Borough'].to_dict()"
   ]
  },
  {
   "cell_type": "markdown",
   "id": "079755b4-b4a6-48dc-b005-cd36778104dd",
   "metadata": {},
   "source": [
    "<div style=\"background-color: rgb(120, 150, 180); padding: 15px; border-radius: 5px;\">\n",
    "Note\n",
    "    - location ID 264 is Unknown, 265 is missing - remove them\n",
    "</div>"
   ]
  },
  {
   "cell_type": "markdown",
   "id": "2c1da853-d66e-49ed-bd28-d5b9290cee01",
   "metadata": {},
   "source": [
    "### 2. Taxi Trip Data"
   ]
  },
  {
   "cell_type": "code",
   "execution_count": 10,
   "id": "ae85a13f-907d-4281-bdb8-a094c3ee9d3b",
   "metadata": {},
   "outputs": [],
   "source": [
    "trip_df = pd.read_csv('../data/raw/TaxiTrips_BronxOrigin2023.csv')"
   ]
  },
  {
   "cell_type": "code",
   "execution_count": 11,
   "id": "1da4dbcd-eaa7-4178-8396-160d5f36b4a3",
   "metadata": {},
   "outputs": [
    {
     "data": {
      "text/html": [
       "<div>\n",
       "<style scoped>\n",
       "    .dataframe tbody tr th:only-of-type {\n",
       "        vertical-align: middle;\n",
       "    }\n",
       "\n",
       "    .dataframe tbody tr th {\n",
       "        vertical-align: top;\n",
       "    }\n",
       "\n",
       "    .dataframe thead th {\n",
       "        text-align: right;\n",
       "    }\n",
       "</style>\n",
       "<table border=\"1\" class=\"dataframe\">\n",
       "  <thead>\n",
       "    <tr style=\"text-align: right;\">\n",
       "      <th></th>\n",
       "      <th>tpep_pickup_datetime</th>\n",
       "      <th>tpep_dropoff_datetime</th>\n",
       "      <th>passenger_count</th>\n",
       "      <th>trip_distance</th>\n",
       "      <th>PULocationID</th>\n",
       "      <th>DOLocationID</th>\n",
       "    </tr>\n",
       "  </thead>\n",
       "  <tbody>\n",
       "    <tr>\n",
       "      <th>0</th>\n",
       "      <td>2023-01-01 0:08</td>\n",
       "      <td>2023-01-01 0:41</td>\n",
       "      <td>1.0</td>\n",
       "      <td>25.84</td>\n",
       "      <td>60</td>\n",
       "      <td>265</td>\n",
       "    </tr>\n",
       "    <tr>\n",
       "      <th>1</th>\n",
       "      <td>2023-01-01 0:27</td>\n",
       "      <td>2023-01-01 0:32</td>\n",
       "      <td>1.0</td>\n",
       "      <td>1.03</td>\n",
       "      <td>159</td>\n",
       "      <td>168</td>\n",
       "    </tr>\n",
       "    <tr>\n",
       "      <th>2</th>\n",
       "      <td>2023-01-01 0:16</td>\n",
       "      <td>2023-01-01 0:16</td>\n",
       "      <td>4.0</td>\n",
       "      <td>0.00</td>\n",
       "      <td>174</td>\n",
       "      <td>174</td>\n",
       "    </tr>\n",
       "    <tr>\n",
       "      <th>3</th>\n",
       "      <td>2023-01-01 0:00</td>\n",
       "      <td>2023-01-01 0:26</td>\n",
       "      <td>1.0</td>\n",
       "      <td>0.00</td>\n",
       "      <td>136</td>\n",
       "      <td>233</td>\n",
       "    </tr>\n",
       "    <tr>\n",
       "      <th>4</th>\n",
       "      <td>2023-01-01 1:51</td>\n",
       "      <td>2023-01-01 1:52</td>\n",
       "      <td>1.0</td>\n",
       "      <td>0.50</td>\n",
       "      <td>168</td>\n",
       "      <td>247</td>\n",
       "    </tr>\n",
       "  </tbody>\n",
       "</table>\n",
       "</div>"
      ],
      "text/plain": [
       "  tpep_pickup_datetime tpep_dropoff_datetime  passenger_count  trip_distance  \\\n",
       "0      2023-01-01 0:08       2023-01-01 0:41              1.0          25.84   \n",
       "1      2023-01-01 0:27       2023-01-01 0:32              1.0           1.03   \n",
       "2      2023-01-01 0:16       2023-01-01 0:16              4.0           0.00   \n",
       "3      2023-01-01 0:00       2023-01-01 0:26              1.0           0.00   \n",
       "4      2023-01-01 1:51       2023-01-01 1:52              1.0           0.50   \n",
       "\n",
       "   PULocationID  DOLocationID  \n",
       "0            60           265  \n",
       "1           159           168  \n",
       "2           174           174  \n",
       "3           136           233  \n",
       "4           168           247  "
      ]
     },
     "execution_count": 11,
     "metadata": {},
     "output_type": "execute_result"
    }
   ],
   "source": [
    "trip_df.head()"
   ]
  },
  {
   "cell_type": "code",
   "execution_count": 12,
   "id": "d1f1015a-ce39-442b-9497-4ce366797ecf",
   "metadata": {},
   "outputs": [
    {
     "name": "stdout",
     "output_type": "stream",
     "text": [
      "<class 'pandas.core.frame.DataFrame'>\n",
      "RangeIndex: 66000 entries, 0 to 65999\n",
      "Data columns (total 6 columns):\n",
      " #   Column                 Non-Null Count  Dtype  \n",
      "---  ------                 --------------  -----  \n",
      " 0   tpep_pickup_datetime   66000 non-null  object \n",
      " 1   tpep_dropoff_datetime  66000 non-null  object \n",
      " 2   passenger_count        60248 non-null  float64\n",
      " 3   trip_distance          65962 non-null  float64\n",
      " 4   PULocationID           66000 non-null  int64  \n",
      " 5   DOLocationID           66000 non-null  int64  \n",
      "dtypes: float64(2), int64(2), object(2)\n",
      "memory usage: 3.0+ MB\n"
     ]
    }
   ],
   "source": [
    "trip_df.info()"
   ]
  },
  {
   "cell_type": "code",
   "execution_count": 13,
   "id": "f5dd8751-8130-4376-b24d-8772308d91b0",
   "metadata": {},
   "outputs": [
    {
     "data": {
      "text/html": [
       "<div>\n",
       "<style scoped>\n",
       "    .dataframe tbody tr th:only-of-type {\n",
       "        vertical-align: middle;\n",
       "    }\n",
       "\n",
       "    .dataframe tbody tr th {\n",
       "        vertical-align: top;\n",
       "    }\n",
       "\n",
       "    .dataframe thead th {\n",
       "        text-align: right;\n",
       "    }\n",
       "</style>\n",
       "<table border=\"1\" class=\"dataframe\">\n",
       "  <thead>\n",
       "    <tr style=\"text-align: right;\">\n",
       "      <th></th>\n",
       "      <th>passenger_count</th>\n",
       "      <th>trip_distance</th>\n",
       "      <th>PULocationID</th>\n",
       "      <th>DOLocationID</th>\n",
       "    </tr>\n",
       "  </thead>\n",
       "  <tbody>\n",
       "    <tr>\n",
       "      <th>count</th>\n",
       "      <td>60248.000000</td>\n",
       "      <td>65962.000000</td>\n",
       "      <td>66000.000000</td>\n",
       "      <td>66000.000000</td>\n",
       "    </tr>\n",
       "    <tr>\n",
       "      <th>mean</th>\n",
       "      <td>1.098427</td>\n",
       "      <td>9.864287</td>\n",
       "      <td>159.144864</td>\n",
       "      <td>145.122455</td>\n",
       "    </tr>\n",
       "    <tr>\n",
       "      <th>std</th>\n",
       "      <td>0.496177</td>\n",
       "      <td>295.649172</td>\n",
       "      <td>75.455125</td>\n",
       "      <td>76.317578</td>\n",
       "    </tr>\n",
       "    <tr>\n",
       "      <th>min</th>\n",
       "      <td>0.000000</td>\n",
       "      <td>0.000000</td>\n",
       "      <td>3.000000</td>\n",
       "      <td>1.000000</td>\n",
       "    </tr>\n",
       "    <tr>\n",
       "      <th>25%</th>\n",
       "      <td>1.000000</td>\n",
       "      <td>0.600000</td>\n",
       "      <td>81.000000</td>\n",
       "      <td>74.000000</td>\n",
       "    </tr>\n",
       "    <tr>\n",
       "      <th>50%</th>\n",
       "      <td>1.000000</td>\n",
       "      <td>3.200000</td>\n",
       "      <td>168.000000</td>\n",
       "      <td>159.000000</td>\n",
       "    </tr>\n",
       "    <tr>\n",
       "      <th>75%</th>\n",
       "      <td>1.000000</td>\n",
       "      <td>8.100000</td>\n",
       "      <td>235.000000</td>\n",
       "      <td>215.000000</td>\n",
       "    </tr>\n",
       "    <tr>\n",
       "      <th>max</th>\n",
       "      <td>11.000000</td>\n",
       "      <td>29349.530000</td>\n",
       "      <td>259.000000</td>\n",
       "      <td>265.000000</td>\n",
       "    </tr>\n",
       "  </tbody>\n",
       "</table>\n",
       "</div>"
      ],
      "text/plain": [
       "       passenger_count  trip_distance  PULocationID  DOLocationID\n",
       "count     60248.000000   65962.000000  66000.000000  66000.000000\n",
       "mean          1.098427       9.864287    159.144864    145.122455\n",
       "std           0.496177     295.649172     75.455125     76.317578\n",
       "min           0.000000       0.000000      3.000000      1.000000\n",
       "25%           1.000000       0.600000     81.000000     74.000000\n",
       "50%           1.000000       3.200000    168.000000    159.000000\n",
       "75%           1.000000       8.100000    235.000000    215.000000\n",
       "max          11.000000   29349.530000    259.000000    265.000000"
      ]
     },
     "execution_count": 13,
     "metadata": {},
     "output_type": "execute_result"
    }
   ],
   "source": [
    "trip_df.describe()"
   ]
  },
  {
   "cell_type": "code",
   "execution_count": 14,
   "id": "b149742c-d7bd-406d-8aeb-dcf3c0dd8b33",
   "metadata": {},
   "outputs": [
    {
     "data": {
      "text/plain": [
       "662"
      ]
     },
     "execution_count": 14,
     "metadata": {},
     "output_type": "execute_result"
    }
   ],
   "source": [
    "trip_df.duplicated().sum()"
   ]
  },
  {
   "cell_type": "code",
   "execution_count": 15,
   "id": "45ccd108-a1c8-47b0-a9ab-29258338a854",
   "metadata": {},
   "outputs": [
    {
     "data": {
      "text/plain": [
       "tpep_pickup_datetime        0\n",
       "tpep_dropoff_datetime       0\n",
       "passenger_count          5752\n",
       "trip_distance              38\n",
       "PULocationID                0\n",
       "DOLocationID                0\n",
       "dtype: int64"
      ]
     },
     "execution_count": 15,
     "metadata": {},
     "output_type": "execute_result"
    }
   ],
   "source": [
    "trip_df.isna().sum()"
   ]
  },
  {
   "cell_type": "markdown",
   "id": "404b35f5-92d4-406d-9c6a-13e61d0a597b",
   "metadata": {},
   "source": [
    "<div style=\"background-color: rgb(120, 150, 180); padding: 15px; border-radius: 5px;\">\n",
    "Note - Almost 10% data missing for passenger count\n",
    "</div>"
   ]
  },
  {
   "cell_type": "code",
   "execution_count": 16,
   "id": "f0390a0a-660f-42a8-9c3d-ebd70dc311c1",
   "metadata": {},
   "outputs": [
    {
     "data": {
      "text/html": [
       "<div>\n",
       "<style scoped>\n",
       "    .dataframe tbody tr th:only-of-type {\n",
       "        vertical-align: middle;\n",
       "    }\n",
       "\n",
       "    .dataframe tbody tr th {\n",
       "        vertical-align: top;\n",
       "    }\n",
       "\n",
       "    .dataframe thead th {\n",
       "        text-align: right;\n",
       "    }\n",
       "</style>\n",
       "<table border=\"1\" class=\"dataframe\">\n",
       "  <thead>\n",
       "    <tr style=\"text-align: right;\">\n",
       "      <th></th>\n",
       "      <th>passenger_count</th>\n",
       "      <th>trip_distance</th>\n",
       "      <th>PULocationID</th>\n",
       "      <th>DOLocationID</th>\n",
       "    </tr>\n",
       "  </thead>\n",
       "  <tbody>\n",
       "    <tr>\n",
       "      <th>count</th>\n",
       "      <td>60248.000000</td>\n",
       "      <td>65962.000000</td>\n",
       "      <td>66000.000000</td>\n",
       "      <td>66000.000000</td>\n",
       "    </tr>\n",
       "    <tr>\n",
       "      <th>mean</th>\n",
       "      <td>1.098427</td>\n",
       "      <td>9.864287</td>\n",
       "      <td>159.144864</td>\n",
       "      <td>145.122455</td>\n",
       "    </tr>\n",
       "    <tr>\n",
       "      <th>std</th>\n",
       "      <td>0.496177</td>\n",
       "      <td>295.649172</td>\n",
       "      <td>75.455125</td>\n",
       "      <td>76.317578</td>\n",
       "    </tr>\n",
       "    <tr>\n",
       "      <th>min</th>\n",
       "      <td>0.000000</td>\n",
       "      <td>0.000000</td>\n",
       "      <td>3.000000</td>\n",
       "      <td>1.000000</td>\n",
       "    </tr>\n",
       "    <tr>\n",
       "      <th>25%</th>\n",
       "      <td>1.000000</td>\n",
       "      <td>0.600000</td>\n",
       "      <td>81.000000</td>\n",
       "      <td>74.000000</td>\n",
       "    </tr>\n",
       "    <tr>\n",
       "      <th>50%</th>\n",
       "      <td>1.000000</td>\n",
       "      <td>3.200000</td>\n",
       "      <td>168.000000</td>\n",
       "      <td>159.000000</td>\n",
       "    </tr>\n",
       "    <tr>\n",
       "      <th>75%</th>\n",
       "      <td>1.000000</td>\n",
       "      <td>8.100000</td>\n",
       "      <td>235.000000</td>\n",
       "      <td>215.000000</td>\n",
       "    </tr>\n",
       "    <tr>\n",
       "      <th>max</th>\n",
       "      <td>11.000000</td>\n",
       "      <td>29349.530000</td>\n",
       "      <td>259.000000</td>\n",
       "      <td>265.000000</td>\n",
       "    </tr>\n",
       "  </tbody>\n",
       "</table>\n",
       "</div>"
      ],
      "text/plain": [
       "       passenger_count  trip_distance  PULocationID  DOLocationID\n",
       "count     60248.000000   65962.000000  66000.000000  66000.000000\n",
       "mean          1.098427       9.864287    159.144864    145.122455\n",
       "std           0.496177     295.649172     75.455125     76.317578\n",
       "min           0.000000       0.000000      3.000000      1.000000\n",
       "25%           1.000000       0.600000     81.000000     74.000000\n",
       "50%           1.000000       3.200000    168.000000    159.000000\n",
       "75%           1.000000       8.100000    235.000000    215.000000\n",
       "max          11.000000   29349.530000    259.000000    265.000000"
      ]
     },
     "execution_count": 16,
     "metadata": {},
     "output_type": "execute_result"
    }
   ],
   "source": [
    "trip_df.describe(exclude=['datetime', 'object'])"
   ]
  },
  {
   "cell_type": "markdown",
   "id": "bfb89657-57c5-4c8d-88c4-eb0dfe86250a",
   "metadata": {},
   "source": [
    "<div style=\"background-color: rgb(120, 150, 180); padding: 15px; border-radius: 5px;\">\n",
    "Note <br>\n",
    "- rows with location ID 264, 265 need to be removed <br>\n",
    "- passenger count of 11 (max) and 0 (min) seem wrong <br>\n",
    "- trip distance of 29349.53 (max) and 0 (min) seem wrong\n",
    "</div>"
   ]
  },
  {
   "cell_type": "markdown",
   "id": "e718670f-2465-41c7-be55-70726a325f65",
   "metadata": {},
   "source": [
    "#### Understanding `passenger_count`"
   ]
  },
  {
   "cell_type": "code",
   "execution_count": 17,
   "id": "1bd08446-ce4e-4fea-9bfb-0ffbc37ba6cb",
   "metadata": {},
   "outputs": [
    {
     "data": {
      "text/plain": [
       "passenger_count\n",
       "0.0       375\n",
       "1.0     56084\n",
       "2.0      2412\n",
       "3.0       675\n",
       "4.0       430\n",
       "5.0       146\n",
       "6.0       117\n",
       "8.0         2\n",
       "11.0        7\n",
       "Name: count, dtype: int64"
      ]
     },
     "execution_count": 17,
     "metadata": {},
     "output_type": "execute_result"
    }
   ],
   "source": [
    "trip_df.passenger_count.value_counts().sort_index()"
   ]
  },
  {
   "cell_type": "code",
   "execution_count": 18,
   "id": "a0db304c-9b26-4458-ba54-a1b4cee7d8d8",
   "metadata": {},
   "outputs": [
    {
     "data": {
      "image/png": "[encoded data removed]",
      "text/plain": [
       "<Figure size 1000x500 with 1 Axes>"
      ]
     },
     "metadata": {},
     "output_type": "display_data"
    }
   ],
   "source": [
    "plt.figure(figsize=(10, 5))\n",
    "trip_df.passenger_count.value_counts().sort_index().plot(kind='bar', edgecolor='black', color='C0')\n",
    "plt.title('Passenger Count Distribution')\n",
    "plt.xlabel('Passenger Count')\n",
    "plt.ylabel('Number of Taxi Trips (log)')\n",
    "plt.yscale('log')\n",
    "plt.grid(axis='y', linestyle='--', alpha=0.7)\n",
    "plt.xticks(rotation=0)\n",
    "plt.savefig('../figures/passenger_count_dist.png', bbox_inches = 'tight')\n",
    "plt.show()"
   ]
  },
  {
   "cell_type": "markdown",
   "id": "06dece1e-edee-4c9c-a4df-24ae95f88f20",
   "metadata": {},
   "source": [
    "<div style=\"background-color: rgb(120, 150, 180); padding: 15px; border-radius: 5px;\">\n",
    "Note - Passenger count = 1 is most prevalent\n",
    "</div>"
   ]
  },
  {
   "cell_type": "markdown",
   "id": "4f42cf33-0717-4d25-9756-1c29090b3a30",
   "metadata": {},
   "source": [
    "#### Understanding `trip_distance`"
   ]
  },
  {
   "cell_type": "code",
   "execution_count": 19,
   "id": "79d57e6f-2888-4469-a17b-420b78e4ebf7",
   "metadata": {},
   "outputs": [
    {
     "data": {
      "text/plain": [
       "trip_distance\n",
       "0.00        13671\n",
       "0.01           65\n",
       "0.02           65\n",
       "0.03           44\n",
       "0.04           39\n",
       "            ...  \n",
       "23070.70        1\n",
       "23123.90        1\n",
       "23210.63        1\n",
       "26270.00        1\n",
       "29349.53        1\n",
       "Name: count, Length: 2129, dtype: int64"
      ]
     },
     "execution_count": 19,
     "metadata": {},
     "output_type": "execute_result"
    }
   ],
   "source": [
    "trip_df.trip_distance.value_counts().sort_index()"
   ]
  },
  {
   "cell_type": "code",
   "execution_count": 20,
   "id": "3850c191-859d-41f7-a69e-2731916cca28",
   "metadata": {},
   "outputs": [
    {
     "data": {
      "image/png": "[encoded data removed]",
      "text/plain": [
       "<Figure size 1000x500 with 1 Axes>"
      ]
     },
     "metadata": {},
     "output_type": "display_data"
    }
   ],
   "source": [
    "plt.figure(figsize=(10, 5))\n",
    "plt.hist(trip_df['trip_distance'], bins=20, edgecolor='black', color='C0')\n",
    "plt.title('Distribution of Trip Distance')\n",
    "plt.xlabel('Trip Distance (miles)')\n",
    "plt.ylabel('Number of Taxi Trips')\n",
    "plt.grid(axis='y', linestyle='--', alpha=0.7)\n",
    "plt.yscale('log')\n",
    "plt.savefig('../figures/trip_distance_dist.png', bbox_inches = 'tight')\n",
    "plt.show()"
   ]
  },
  {
   "cell_type": "code",
   "execution_count": 21,
   "id": "02383f2f-280c-4b4a-b7b0-8c4edbafd6a6",
   "metadata": {},
   "outputs": [
    {
     "data": {
      "image/png": "[encoded data removed]",
      "text/plain": [
       "<Figure size 1000x500 with 1 Axes>"
      ]
     },
     "metadata": {},
     "output_type": "display_data"
    }
   ],
   "source": [
    "plt.figure(figsize=(10, 5))\n",
    "plt.hist(np.log(trip_df['trip_distance'] + 1), bins=20, edgecolor='black', color='C0')\n",
    "plt.title('Distribution of Trip Distance')\n",
    "plt.xlabel('Trip Distance (log(miles))')\n",
    "plt.ylabel('Number of Taxi Trips')\n",
    "plt.grid(axis='y', linestyle='--', alpha=0.7)\n",
    "plt.savefig('../figures/trip_distance_dist2.png', bbox_inches = 'tight')\n",
    "plt.show()"
   ]
  },
  {
   "cell_type": "markdown",
   "id": "1e79f053-ed4c-4603-87b9-f131b169d7f5",
   "metadata": {},
   "source": [
    "<div style=\"background-color: rgb(120, 150, 180); padding: 15px; border-radius: 5px;\">\n",
    "Note - most of the trips are short, meaning the erroneously longer ones are outliers\n",
    "</div>"
   ]
  },
  {
   "cell_type": "code",
   "execution_count": 22,
   "id": "1fe94fed-8e91-4b22-b8b9-6b50da1cb1a1",
   "metadata": {},
   "outputs": [
    {
     "data": {
      "image/png": "[encoded data removed]",
      "text/plain": [
       "<Figure size 1000x500 with 1 Axes>"
      ]
     },
     "metadata": {},
     "output_type": "display_data"
    }
   ],
   "source": [
    "plt.figure(figsize=(10, 5))\n",
    "trip_df.trip_distance.plot(kind='box', vert=False)\n",
    "plt.title('Boxplot of Trip Distance')\n",
    "plt.xlabel('Trip Distance')\n",
    "plt.grid(axis='x', linestyle='--', alpha=0.7)\n",
    "plt.savefig('../figures/trip_distance_boxplot.png', bbox_inches = 'tight')\n",
    "plt.show()"
   ]
  },
  {
   "cell_type": "code",
   "execution_count": 23,
   "id": "ff772d22-fa99-43cd-8c4d-46ca20de21bb",
   "metadata": {},
   "outputs": [
    {
     "data": {
      "text/plain": [
       "count    65962.000000\n",
       "mean         9.864287\n",
       "std        295.649172\n",
       "min          0.000000\n",
       "50%          3.200000\n",
       "90%         13.700000\n",
       "95%         17.000000\n",
       "98%         21.100000\n",
       "99.9%       34.951950\n",
       "max      29349.530000\n",
       "Name: trip_distance, dtype: float64"
      ]
     },
     "execution_count": 23,
     "metadata": {},
     "output_type": "execute_result"
    }
   ],
   "source": [
    "trip_df['trip_distance'].describe(percentiles=[.90, .95, .98, .999])"
   ]
  },
  {
   "cell_type": "code",
   "execution_count": 24,
   "id": "a12fd4d2-b8d5-421b-bfc3-987494ad9766",
   "metadata": {},
   "outputs": [
    {
     "data": {
      "image/png": "[encoded data removed]",
      "text/plain": [
       "<Figure size 1000x500 with 1 Axes>"
      ]
     },
     "metadata": {},
     "output_type": "display_data"
    }
   ],
   "source": [
    "plt.figure(figsize=(10, 5))\n",
    "plt.plot(np.sort(trip_df.trip_distance), color='C0')\n",
    "plt.title('Plot of Trip Distance')\n",
    "plt.xlabel('Index (sorted)')\n",
    "plt.ylabel('Trip Distance (miles)')\n",
    "plt.ylim(0, 50)\n",
    "plt.grid(True, linestyle='--', alpha=0.7)\n",
    "plt.savefig('../figures/trip_distance_sorted_lineplot.png', bbox_inches = 'tight')\n",
    "plt.show()"
   ]
  },
  {
   "cell_type": "markdown",
   "id": "42b02c4a-ae65-4ca3-be4b-316210ef71f4",
   "metadata": {},
   "source": [
    "<div style=\"background-color: rgb(120, 150, 180); padding: 15px; border-radius: 5px;\">\n",
    "Note <br>\n",
    "- remove passenger count = 8 and = 11 (> 6)<br>\n",
    "- remove trip distance <= 0 and > 30\n",
    "</div>"
   ]
  },
  {
   "cell_type": "markdown",
   "id": "83ed0491-ba1a-412f-94e6-248e947567ac",
   "metadata": {},
   "source": [
    "#### Understanding `PULocationID`"
   ]
  },
  {
   "cell_type": "code",
   "execution_count": 25,
   "id": "36e53afd-9319-4726-abfd-31d0eebdb767",
   "metadata": {},
   "outputs": [
    {
     "data": {
      "image/png": "[encoded data removed]",
      "text/plain": [
       "<Figure size 1000x500 with 1 Axes>"
      ]
     },
     "metadata": {},
     "output_type": "display_data"
    }
   ],
   "source": [
    "plt.figure(figsize=(10, 5))\n",
    "trip_df['PULocationID'].value_counts().plot(kind='barh', color='C1', edgecolor='black')\n",
    "plt.title('Distribution of Pickups per Location')\n",
    "plt.xlabel('Count')\n",
    "plt.ylabel('PULocationID')\n",
    "plt.savefig('../figures/pickup_location_dist.png', bbox_inches = 'tight')\n",
    "plt.show()"
   ]
  },
  {
   "cell_type": "markdown",
   "id": "18a283f8-cb9b-4c43-bd92-6e22b397ff85",
   "metadata": {},
   "source": [
    "<div style=\"background-color: rgb(120, 150, 180); padding: 15px; border-radius: 5px;\">\n",
    "Note - LocationID 168 is most popular for pickups\n",
    "</div>"
   ]
  },
  {
   "cell_type": "markdown",
   "id": "d2859c03-1203-4a74-bd4d-c6052b6b828e",
   "metadata": {},
   "source": [
    "#### Understanding `DOBoroughID`"
   ]
  },
  {
   "cell_type": "code",
   "execution_count": 26,
   "id": "1c703e16-1b19-4140-8205-6d81b3a9e5b5",
   "metadata": {},
   "outputs": [],
   "source": [
    "trips_zone_df = trip_df.merge(zone_df, left_on='PULocationID', right_on='LocationID', how='left')\n",
    "trips_zone_df = trips_zone_df.rename(columns={\n",
    "    'Borough': 'PUBorough', \n",
    "    'Zone': 'PUZone', \n",
    "    'service_zone': 'PUServiceZone'\n",
    "}).drop(columns=['LocationID'])\n",
    "trips_zone_df = trips_zone_df.merge(zone_df, left_on='DOLocationID', right_on='LocationID', how='left')\n",
    "trips_zone_df = trips_zone_df.rename(columns={\n",
    "    'Borough': 'DOBorough', \n",
    "    'Zone': 'DOZone', \n",
    "    'service_zone': 'DOServiceZone'\n",
    "}).drop(columns=['LocationID'])"
   ]
  },
  {
   "cell_type": "code",
   "execution_count": 27,
   "id": "243f825b-1d4f-4e7b-84d8-75c335dfcf87",
   "metadata": {},
   "outputs": [
    {
     "data": {
      "image/png": "[encoded data removed]",
      "text/plain": [
       "<Figure size 1000x500 with 1 Axes>"
      ]
     },
     "metadata": {},
     "output_type": "display_data"
    }
   ],
   "source": [
    "plt.figure(figsize=(10, 5))\n",
    "trips_zone_df.DOBorough.value_counts().plot(kind='bar', edgecolor='black')\n",
    "plt.yscale('log')\n",
    "plt.xlabel('Drop-off Borough name')\n",
    "plt.ylabel('Number of trips (log(miles))')\n",
    "plt.title('Drop-off Borough Distribution')\n",
    "plt.grid(axis='y', linestyle='--', alpha=0.7)\n",
    "plt.savefig('../figures/dropoff_location_dist.png', bbox_inches = 'tight')\n",
    "plt.show()"
   ]
  },
  {
   "cell_type": "markdown",
   "id": "5fdc81d1-1a1a-46ed-8aad-4d3887640e9c",
   "metadata": {},
   "source": [
    "<div style=\"background-color: rgb(120, 150, 180); padding: 15px; border-radius: 5px;\">\n",
    "Note - Most of the trips are within Bronx or to Manhattan\n",
    "</div>"
   ]
  },
  {
   "cell_type": "markdown",
   "id": "eac9cf09-5779-45ef-9964-a5f70e3b1227",
   "metadata": {},
   "source": [
    "#### Understanding `tpep_pickup_datetime` and `tpep_dropoff_datetime`"
   ]
  },
  {
   "cell_type": "code",
   "execution_count": 28,
   "id": "7dd535fe-6611-4d94-9b25-6a15fb58184a",
   "metadata": {},
   "outputs": [
    {
     "data": {
      "text/plain": [
       "Timestamp('2023-01-01 00:00:00')"
      ]
     },
     "execution_count": 28,
     "metadata": {},
     "output_type": "execute_result"
    }
   ],
   "source": [
    "pd.to_datetime(trip_df.tpep_pickup_datetime).min()"
   ]
  },
  {
   "cell_type": "code",
   "execution_count": 29,
   "id": "91289828-5831-4eb9-b129-7d7828ad2b13",
   "metadata": {},
   "outputs": [
    {
     "data": {
      "text/plain": [
       "Timestamp('2023-12-31 23:56:00')"
      ]
     },
     "execution_count": 29,
     "metadata": {},
     "output_type": "execute_result"
    }
   ],
   "source": [
    "pd.to_datetime(trip_df.tpep_pickup_datetime).max()"
   ]
  },
  {
   "cell_type": "code",
   "execution_count": 30,
   "id": "3b43a6a3-bd43-4f62-aeff-45b4a15560d3",
   "metadata": {},
   "outputs": [
    {
     "data": {
      "text/plain": [
       "Timestamp('2023-01-01 00:16:00')"
      ]
     },
     "execution_count": 30,
     "metadata": {},
     "output_type": "execute_result"
    }
   ],
   "source": [
    "pd.to_datetime(trip_df.tpep_dropoff_datetime).min()"
   ]
  },
  {
   "cell_type": "code",
   "execution_count": 31,
   "id": "d25051d2-cef8-4e2a-a291-d06884461890",
   "metadata": {},
   "outputs": [
    {
     "data": {
      "text/plain": [
       "Timestamp('2024-01-01 00:16:00')"
      ]
     },
     "execution_count": 31,
     "metadata": {},
     "output_type": "execute_result"
    }
   ],
   "source": [
    "pd.to_datetime(trip_df.tpep_dropoff_datetime).max()"
   ]
  },
  {
   "cell_type": "markdown",
   "id": "744d51ac-7ed0-481b-9017-dfc5c936345c",
   "metadata": {},
   "source": [
    "<div style=\"background-color: rgb(120, 150, 180); padding: 15px; border-radius: 5px;\">\n",
    "Note - few drop-off's happenened till beginning of 2024\n",
    "</div>"
   ]
  },
  {
   "cell_type": "markdown",
   "id": "efe89292-0619-40eb-a510-857a8512a151",
   "metadata": {},
   "source": [
    "### 3. Weather Data"
   ]
  },
  {
   "cell_type": "code",
   "execution_count": 32,
   "id": "8cde6602-07d0-4965-872a-841124bd4072",
   "metadata": {},
   "outputs": [],
   "source": [
    "weather_df = pd.read_csv('../data/raw/Bronx_Weather_Data2023.csv', index_col=0)"
   ]
  },
  {
   "cell_type": "code",
   "execution_count": 33,
   "id": "0367036b-7e9c-4bcb-a97c-4e5797f14d80",
   "metadata": {},
   "outputs": [
    {
     "data": {
      "text/html": [
       "<div>\n",
       "<style scoped>\n",
       "    .dataframe tbody tr th:only-of-type {\n",
       "        vertical-align: middle;\n",
       "    }\n",
       "\n",
       "    .dataframe tbody tr th {\n",
       "        vertical-align: top;\n",
       "    }\n",
       "\n",
       "    .dataframe thead th {\n",
       "        text-align: right;\n",
       "    }\n",
       "</style>\n",
       "<table border=\"1\" class=\"dataframe\">\n",
       "  <thead>\n",
       "    <tr style=\"text-align: right;\">\n",
       "      <th></th>\n",
       "      <th>date</th>\n",
       "      <th>temperature_2m</th>\n",
       "      <th>precipitation</th>\n",
       "      <th>rain</th>\n",
       "      <th>snowfall</th>\n",
       "    </tr>\n",
       "  </thead>\n",
       "  <tbody>\n",
       "    <tr>\n",
       "      <th>0</th>\n",
       "      <td>2023-01-01 00:00:00+00:00</td>\n",
       "      <td>9.743500</td>\n",
       "      <td>0.4</td>\n",
       "      <td>0.4</td>\n",
       "      <td>0.0</td>\n",
       "    </tr>\n",
       "    <tr>\n",
       "      <th>1</th>\n",
       "      <td>2023-01-01 01:00:00+00:00</td>\n",
       "      <td>10.593500</td>\n",
       "      <td>1.2</td>\n",
       "      <td>1.2</td>\n",
       "      <td>0.0</td>\n",
       "    </tr>\n",
       "    <tr>\n",
       "      <th>2</th>\n",
       "      <td>2023-01-01 02:00:00+00:00</td>\n",
       "      <td>11.143499</td>\n",
       "      <td>0.7</td>\n",
       "      <td>0.7</td>\n",
       "      <td>0.0</td>\n",
       "    </tr>\n",
       "    <tr>\n",
       "      <th>3</th>\n",
       "      <td>2023-01-01 03:00:00+00:00</td>\n",
       "      <td>11.043500</td>\n",
       "      <td>2.2</td>\n",
       "      <td>2.2</td>\n",
       "      <td>0.0</td>\n",
       "    </tr>\n",
       "    <tr>\n",
       "      <th>4</th>\n",
       "      <td>2023-01-01 04:00:00+00:00</td>\n",
       "      <td>10.843500</td>\n",
       "      <td>1.7</td>\n",
       "      <td>1.7</td>\n",
       "      <td>0.0</td>\n",
       "    </tr>\n",
       "  </tbody>\n",
       "</table>\n",
       "</div>"
      ],
      "text/plain": [
       "                        date  temperature_2m  precipitation  rain  snowfall\n",
       "0  2023-01-01 00:00:00+00:00        9.743500            0.4   0.4       0.0\n",
       "1  2023-01-01 01:00:00+00:00       10.593500            1.2   1.2       0.0\n",
       "2  2023-01-01 02:00:00+00:00       11.143499            0.7   0.7       0.0\n",
       "3  2023-01-01 03:00:00+00:00       11.043500            2.2   2.2       0.0\n",
       "4  2023-01-01 04:00:00+00:00       10.843500            1.7   1.7       0.0"
      ]
     },
     "execution_count": 33,
     "metadata": {},
     "output_type": "execute_result"
    }
   ],
   "source": [
    "weather_df.head()"
   ]
  },
  {
   "cell_type": "code",
   "execution_count": 34,
   "id": "4a5c1011-a012-4a85-b3b3-e9e806017e68",
   "metadata": {},
   "outputs": [
    {
     "name": "stdout",
     "output_type": "stream",
     "text": [
      "<class 'pandas.core.frame.DataFrame'>\n",
      "Index: 8760 entries, 0 to 8759\n",
      "Data columns (total 5 columns):\n",
      " #   Column          Non-Null Count  Dtype  \n",
      "---  ------          --------------  -----  \n",
      " 0   date            8760 non-null   object \n",
      " 1   temperature_2m  8760 non-null   float64\n",
      " 2   precipitation   8760 non-null   float64\n",
      " 3   rain            8760 non-null   float64\n",
      " 4   snowfall        8760 non-null   float64\n",
      "dtypes: float64(4), object(1)\n",
      "memory usage: 410.6+ KB\n"
     ]
    }
   ],
   "source": [
    "weather_df.info()"
   ]
  },
  {
   "cell_type": "code",
   "execution_count": 35,
   "id": "35e148b0-154b-440a-99c9-3874e9d73e17",
   "metadata": {},
   "outputs": [
    {
     "data": {
      "text/plain": [
       "0"
      ]
     },
     "execution_count": 35,
     "metadata": {},
     "output_type": "execute_result"
    }
   ],
   "source": [
    "weather_df.duplicated().sum()"
   ]
  },
  {
   "cell_type": "code",
   "execution_count": 36,
   "id": "8ceeb113-3524-4f67-aa74-ac31a1461c0c",
   "metadata": {},
   "outputs": [
    {
     "data": {
      "text/plain": [
       "date              0\n",
       "temperature_2m    0\n",
       "precipitation     0\n",
       "rain              0\n",
       "snowfall          0\n",
       "dtype: int64"
      ]
     },
     "execution_count": 36,
     "metadata": {},
     "output_type": "execute_result"
    }
   ],
   "source": [
    "weather_df.isna().sum()"
   ]
  },
  {
   "cell_type": "code",
   "execution_count": 37,
   "id": "ef94595f-dfde-4063-ab8a-b21cdfe2d744",
   "metadata": {},
   "outputs": [
    {
     "data": {
      "text/html": [
       "<div>\n",
       "<style scoped>\n",
       "    .dataframe tbody tr th:only-of-type {\n",
       "        vertical-align: middle;\n",
       "    }\n",
       "\n",
       "    .dataframe tbody tr th {\n",
       "        vertical-align: top;\n",
       "    }\n",
       "\n",
       "    .dataframe thead th {\n",
       "        text-align: right;\n",
       "    }\n",
       "</style>\n",
       "<table border=\"1\" class=\"dataframe\">\n",
       "  <thead>\n",
       "    <tr style=\"text-align: right;\">\n",
       "      <th></th>\n",
       "      <th>temperature_2m</th>\n",
       "      <th>precipitation</th>\n",
       "      <th>rain</th>\n",
       "      <th>snowfall</th>\n",
       "    </tr>\n",
       "  </thead>\n",
       "  <tbody>\n",
       "    <tr>\n",
       "      <th>count</th>\n",
       "      <td>8760.000000</td>\n",
       "      <td>8760.000000</td>\n",
       "      <td>8760.000000</td>\n",
       "      <td>8760.000000</td>\n",
       "    </tr>\n",
       "    <tr>\n",
       "      <th>mean</th>\n",
       "      <td>12.798825</td>\n",
       "      <td>0.174429</td>\n",
       "      <td>0.170126</td>\n",
       "      <td>0.003013</td>\n",
       "    </tr>\n",
       "    <tr>\n",
       "      <th>std</th>\n",
       "      <td>8.663837</td>\n",
       "      <td>0.915399</td>\n",
       "      <td>0.911545</td>\n",
       "      <td>0.044494</td>\n",
       "    </tr>\n",
       "    <tr>\n",
       "      <th>min</th>\n",
       "      <td>-17.206501</td>\n",
       "      <td>0.000000</td>\n",
       "      <td>0.000000</td>\n",
       "      <td>0.000000</td>\n",
       "    </tr>\n",
       "    <tr>\n",
       "      <th>25%</th>\n",
       "      <td>5.643500</td>\n",
       "      <td>0.000000</td>\n",
       "      <td>0.000000</td>\n",
       "      <td>0.000000</td>\n",
       "    </tr>\n",
       "    <tr>\n",
       "      <th>50%</th>\n",
       "      <td>12.468500</td>\n",
       "      <td>0.000000</td>\n",
       "      <td>0.000000</td>\n",
       "      <td>0.000000</td>\n",
       "    </tr>\n",
       "    <tr>\n",
       "      <th>75%</th>\n",
       "      <td>20.043499</td>\n",
       "      <td>0.000000</td>\n",
       "      <td>0.000000</td>\n",
       "      <td>0.000000</td>\n",
       "    </tr>\n",
       "    <tr>\n",
       "      <th>max</th>\n",
       "      <td>33.693500</td>\n",
       "      <td>21.200000</td>\n",
       "      <td>21.200000</td>\n",
       "      <td>1.540000</td>\n",
       "    </tr>\n",
       "  </tbody>\n",
       "</table>\n",
       "</div>"
      ],
      "text/plain": [
       "       temperature_2m  precipitation         rain     snowfall\n",
       "count     8760.000000    8760.000000  8760.000000  8760.000000\n",
       "mean        12.798825       0.174429     0.170126     0.003013\n",
       "std          8.663837       0.915399     0.911545     0.044494\n",
       "min        -17.206501       0.000000     0.000000     0.000000\n",
       "25%          5.643500       0.000000     0.000000     0.000000\n",
       "50%         12.468500       0.000000     0.000000     0.000000\n",
       "75%         20.043499       0.000000     0.000000     0.000000\n",
       "max         33.693500      21.200000    21.200000     1.540000"
      ]
     },
     "execution_count": 37,
     "metadata": {},
     "output_type": "execute_result"
    }
   ],
   "source": [
    "weather_df.describe()"
   ]
  },
  {
   "cell_type": "markdown",
   "id": "ffb83313-ccc4-400c-aca0-df39b8a0b023",
   "metadata": {},
   "source": [
    "## Data Cleaning"
   ]
  },
  {
   "cell_type": "code",
   "execution_count": 38,
   "id": "c18dab91-f06b-40ed-9362-081c0b58de6e",
   "metadata": {},
   "outputs": [],
   "source": [
    "def clean_zone_data(df):\n",
    "    \"\"\"\n",
    "    Cleans the zone lookup data\n",
    "    \"\"\"\n",
    "    df = df.copy()\n",
    "    df = df.dropna()\n",
    "    return df"
   ]
  },
  {
   "cell_type": "code",
   "execution_count": 39,
   "id": "67c4fdcc-ca30-4e5b-b9db-3f5971ac6e29",
   "metadata": {},
   "outputs": [],
   "source": [
    "def clean_weather_data(df):\n",
    "    \"\"\"\n",
    "    Cleans the weather data\n",
    "    \"\"\"\n",
    "    df = df.copy()\n",
    "    df.date = pd.to_datetime(weather_df.date).dt.tz_convert(None)\n",
    "    return df"
   ]
  },
  {
   "cell_type": "code",
   "execution_count": 40,
   "id": "6413f5ee-be33-4d23-bd72-37f7b3221efc",
   "metadata": {},
   "outputs": [],
   "source": [
    "def clean_trip_data(df, zones):\n",
    "    \"\"\"\n",
    "    Cleans the taxi trip data\n",
    "    \"\"\"\n",
    "    df = df.copy()\n",
    "    df = df.drop_duplicates()\n",
    "    df = df[df['PULocationID'].isin(zones)].copy()\n",
    "    df['passenger_count'] = df['passenger_count'].clip(lower=1, upper=6)\n",
    "    df['trip_distance'] = df['trip_distance'].clip(lower=0, upper=30)\n",
    "    return df"
   ]
  },
  {
   "cell_type": "code",
   "execution_count": 41,
   "id": "8094a16b-f076-4655-ab26-8e0433e6b6d8",
   "metadata": {},
   "outputs": [],
   "source": [
    "def clean_trip_data_dropna(df, zones):\n",
    "    \"\"\"\n",
    "    Cleans the taxi trip data with dropping na, 0 passengers and 0 trip distance\n",
    "    \"\"\"\n",
    "    df = df.copy()\n",
    "    df = df.drop_duplicates()\n",
    "    df = df[df['PULocationID'].isin(zones)].copy()\n",
    "    df = df.dropna()\n",
    "    df = df[df.passenger_count != 0]\n",
    "    df = df[df.trip_distance != 0]\n",
    "    return df"
   ]
  },
  {
   "cell_type": "markdown",
   "id": "2ffc416b-123a-4ae5-8891-c69ace09c5dc",
   "metadata": {},
   "source": [
    "#### 1. Zone Data"
   ]
  },
  {
   "cell_type": "code",
   "execution_count": 42,
   "id": "77f445fb-50b3-47d5-bb4a-14d358d9b088",
   "metadata": {},
   "outputs": [],
   "source": [
    "zone_df = pd.read_csv('../data/raw/taxi_zone_lookup.csv')"
   ]
  },
  {
   "cell_type": "code",
   "execution_count": 43,
   "id": "15f75cc5-a15b-4de8-832e-0296b4fdcb71",
   "metadata": {},
   "outputs": [],
   "source": [
    "# removing locationID 264 and 265\n",
    "zone_df = clean_zone_data(zone_df)"
   ]
  },
  {
   "cell_type": "code",
   "execution_count": 44,
   "id": "599601c9-5ce6-4b5b-87b5-6a487a38543c",
   "metadata": {},
   "outputs": [
    {
     "data": {
      "text/html": [
       "<div>\n",
       "<style scoped>\n",
       "    .dataframe tbody tr th:only-of-type {\n",
       "        vertical-align: middle;\n",
       "    }\n",
       "\n",
       "    .dataframe tbody tr th {\n",
       "        vertical-align: top;\n",
       "    }\n",
       "\n",
       "    .dataframe thead th {\n",
       "        text-align: right;\n",
       "    }\n",
       "</style>\n",
       "<table border=\"1\" class=\"dataframe\">\n",
       "  <thead>\n",
       "    <tr style=\"text-align: right;\">\n",
       "      <th></th>\n",
       "      <th>LocationID</th>\n",
       "      <th>Borough</th>\n",
       "      <th>Zone</th>\n",
       "      <th>service_zone</th>\n",
       "    </tr>\n",
       "  </thead>\n",
       "  <tbody>\n",
       "    <tr>\n",
       "      <th>0</th>\n",
       "      <td>1</td>\n",
       "      <td>EWR</td>\n",
       "      <td>Newark Airport</td>\n",
       "      <td>EWR</td>\n",
       "    </tr>\n",
       "    <tr>\n",
       "      <th>1</th>\n",
       "      <td>2</td>\n",
       "      <td>Queens</td>\n",
       "      <td>Jamaica Bay</td>\n",
       "      <td>Boro Zone</td>\n",
       "    </tr>\n",
       "    <tr>\n",
       "      <th>2</th>\n",
       "      <td>3</td>\n",
       "      <td>Bronx</td>\n",
       "      <td>Allerton/Pelham Gardens</td>\n",
       "      <td>Boro Zone</td>\n",
       "    </tr>\n",
       "    <tr>\n",
       "      <th>3</th>\n",
       "      <td>4</td>\n",
       "      <td>Manhattan</td>\n",
       "      <td>Alphabet City</td>\n",
       "      <td>Yellow Zone</td>\n",
       "    </tr>\n",
       "    <tr>\n",
       "      <th>4</th>\n",
       "      <td>5</td>\n",
       "      <td>Staten Island</td>\n",
       "      <td>Arden Heights</td>\n",
       "      <td>Boro Zone</td>\n",
       "    </tr>\n",
       "  </tbody>\n",
       "</table>\n",
       "</div>"
      ],
      "text/plain": [
       "   LocationID        Borough                     Zone service_zone\n",
       "0           1            EWR           Newark Airport          EWR\n",
       "1           2         Queens              Jamaica Bay    Boro Zone\n",
       "2           3          Bronx  Allerton/Pelham Gardens    Boro Zone\n",
       "3           4      Manhattan            Alphabet City  Yellow Zone\n",
       "4           5  Staten Island            Arden Heights    Boro Zone"
      ]
     },
     "execution_count": 44,
     "metadata": {},
     "output_type": "execute_result"
    }
   ],
   "source": [
    "zone_df.head()"
   ]
  },
  {
   "cell_type": "code",
   "execution_count": 45,
   "id": "89feaf20-8b17-48d6-a5e5-f96f79462bab",
   "metadata": {},
   "outputs": [
    {
     "name": "stdout",
     "output_type": "stream",
     "text": [
      "<class 'pandas.core.frame.DataFrame'>\n",
      "Index: 263 entries, 0 to 262\n",
      "Data columns (total 4 columns):\n",
      " #   Column        Non-Null Count  Dtype \n",
      "---  ------        --------------  ----- \n",
      " 0   LocationID    263 non-null    int64 \n",
      " 1   Borough       263 non-null    object\n",
      " 2   Zone          263 non-null    object\n",
      " 3   service_zone  263 non-null    object\n",
      "dtypes: int64(1), object(3)\n",
      "memory usage: 10.3+ KB\n"
     ]
    }
   ],
   "source": [
    "zone_df.info()"
   ]
  },
  {
   "cell_type": "code",
   "execution_count": 46,
   "id": "ad9fd541-cff5-4a6c-955f-ae665c9e8d7c",
   "metadata": {},
   "outputs": [],
   "source": [
    "# getting location IDs for Bronx\n",
    "bronx_zones = zone_df[zone_df['Borough'] == 'Bronx']['LocationID']"
   ]
  },
  {
   "cell_type": "markdown",
   "id": "ea7fa536-6ee8-4077-a273-3de6823500a9",
   "metadata": {},
   "source": [
    "#### 2. Weather Data"
   ]
  },
  {
   "cell_type": "code",
   "execution_count": 47,
   "id": "0028e52f-1afa-4d34-86ec-11a83aef6a7c",
   "metadata": {},
   "outputs": [],
   "source": [
    "weather_df = pd.read_csv('../data/raw/Bronx_Weather_Data2023.csv', parse_dates=['date'], index_col=0)"
   ]
  },
  {
   "cell_type": "code",
   "execution_count": 48,
   "id": "d7ad24fb-87e1-4c40-a4a4-0fcd655a0c69",
   "metadata": {},
   "outputs": [],
   "source": [
    "# remove utc format\n",
    "weather_df = clean_weather_data(weather_df)"
   ]
  },
  {
   "cell_type": "code",
   "execution_count": 49,
   "id": "f920818c-eb83-4bf2-b0af-c955713d8f2d",
   "metadata": {},
   "outputs": [
    {
     "data": {
      "text/html": [
       "<div>\n",
       "<style scoped>\n",
       "    .dataframe tbody tr th:only-of-type {\n",
       "        vertical-align: middle;\n",
       "    }\n",
       "\n",
       "    .dataframe tbody tr th {\n",
       "        vertical-align: top;\n",
       "    }\n",
       "\n",
       "    .dataframe thead th {\n",
       "        text-align: right;\n",
       "    }\n",
       "</style>\n",
       "<table border=\"1\" class=\"dataframe\">\n",
       "  <thead>\n",
       "    <tr style=\"text-align: right;\">\n",
       "      <th></th>\n",
       "      <th>date</th>\n",
       "      <th>temperature_2m</th>\n",
       "      <th>precipitation</th>\n",
       "      <th>rain</th>\n",
       "      <th>snowfall</th>\n",
       "    </tr>\n",
       "  </thead>\n",
       "  <tbody>\n",
       "    <tr>\n",
       "      <th>0</th>\n",
       "      <td>2023-01-01 00:00:00</td>\n",
       "      <td>9.743500</td>\n",
       "      <td>0.4</td>\n",
       "      <td>0.4</td>\n",
       "      <td>0.0</td>\n",
       "    </tr>\n",
       "    <tr>\n",
       "      <th>1</th>\n",
       "      <td>2023-01-01 01:00:00</td>\n",
       "      <td>10.593500</td>\n",
       "      <td>1.2</td>\n",
       "      <td>1.2</td>\n",
       "      <td>0.0</td>\n",
       "    </tr>\n",
       "    <tr>\n",
       "      <th>2</th>\n",
       "      <td>2023-01-01 02:00:00</td>\n",
       "      <td>11.143499</td>\n",
       "      <td>0.7</td>\n",
       "      <td>0.7</td>\n",
       "      <td>0.0</td>\n",
       "    </tr>\n",
       "    <tr>\n",
       "      <th>3</th>\n",
       "      <td>2023-01-01 03:00:00</td>\n",
       "      <td>11.043500</td>\n",
       "      <td>2.2</td>\n",
       "      <td>2.2</td>\n",
       "      <td>0.0</td>\n",
       "    </tr>\n",
       "    <tr>\n",
       "      <th>4</th>\n",
       "      <td>2023-01-01 04:00:00</td>\n",
       "      <td>10.843500</td>\n",
       "      <td>1.7</td>\n",
       "      <td>1.7</td>\n",
       "      <td>0.0</td>\n",
       "    </tr>\n",
       "  </tbody>\n",
       "</table>\n",
       "</div>"
      ],
      "text/plain": [
       "                 date  temperature_2m  precipitation  rain  snowfall\n",
       "0 2023-01-01 00:00:00        9.743500            0.4   0.4       0.0\n",
       "1 2023-01-01 01:00:00       10.593500            1.2   1.2       0.0\n",
       "2 2023-01-01 02:00:00       11.143499            0.7   0.7       0.0\n",
       "3 2023-01-01 03:00:00       11.043500            2.2   2.2       0.0\n",
       "4 2023-01-01 04:00:00       10.843500            1.7   1.7       0.0"
      ]
     },
     "execution_count": 49,
     "metadata": {},
     "output_type": "execute_result"
    }
   ],
   "source": [
    "weather_df.head()"
   ]
  },
  {
   "cell_type": "code",
   "execution_count": 50,
   "id": "c5cb596a-f9cf-4c60-94f7-f5b405f3e63b",
   "metadata": {},
   "outputs": [
    {
     "name": "stdout",
     "output_type": "stream",
     "text": [
      "<class 'pandas.core.frame.DataFrame'>\n",
      "Index: 8760 entries, 0 to 8759\n",
      "Data columns (total 5 columns):\n",
      " #   Column          Non-Null Count  Dtype         \n",
      "---  ------          --------------  -----         \n",
      " 0   date            8760 non-null   datetime64[ns]\n",
      " 1   temperature_2m  8760 non-null   float64       \n",
      " 2   precipitation   8760 non-null   float64       \n",
      " 3   rain            8760 non-null   float64       \n",
      " 4   snowfall        8760 non-null   float64       \n",
      "dtypes: datetime64[ns](1), float64(4)\n",
      "memory usage: 410.6 KB\n"
     ]
    }
   ],
   "source": [
    "weather_df.info()"
   ]
  },
  {
   "cell_type": "markdown",
   "id": "85efabbe-4b13-476c-bbc4-91a54bf429d6",
   "metadata": {},
   "source": [
    "#### 3. Taxi Trip Data"
   ]
  },
  {
   "cell_type": "code",
   "execution_count": 51,
   "id": "17c5a645-2e71-41bb-9009-28a53c87acb4",
   "metadata": {},
   "outputs": [],
   "source": [
    "trip_df = pd.read_csv('../data/raw/TaxiTrips_BronxOrigin2023.csv',\n",
    "                      parse_dates=['tpep_pickup_datetime',\n",
    "                                   'tpep_dropoff_datetime'])"
   ]
  },
  {
   "cell_type": "code",
   "execution_count": 52,
   "id": "e94e54d5-3a26-470e-b36c-66df1bfdcfa0",
   "metadata": {},
   "outputs": [],
   "source": [
    "trip_df1 = clean_trip_data(trip_df, bronx_zones)"
   ]
  },
  {
   "cell_type": "code",
   "execution_count": 53,
   "id": "b789da3b-431d-4cdf-8aa1-cbc6d22bfb50",
   "metadata": {},
   "outputs": [],
   "source": [
    "trip_df2 = clean_trip_data_dropna(trip_df, bronx_zones)"
   ]
  },
  {
   "cell_type": "code",
   "execution_count": 54,
   "id": "060ad53e-0b5c-49f1-84b6-a3faf06e4c07",
   "metadata": {},
   "outputs": [
    {
     "name": "stdout",
     "output_type": "stream",
     "text": [
      "<class 'pandas.core.frame.DataFrame'>\n",
      "Index: 65338 entries, 0 to 65999\n",
      "Data columns (total 6 columns):\n",
      " #   Column                 Non-Null Count  Dtype         \n",
      "---  ------                 --------------  -----         \n",
      " 0   tpep_pickup_datetime   65338 non-null  datetime64[ns]\n",
      " 1   tpep_dropoff_datetime  65338 non-null  datetime64[ns]\n",
      " 2   passenger_count        59586 non-null  float64       \n",
      " 3   trip_distance          65300 non-null  float64       \n",
      " 4   PULocationID           65338 non-null  int64         \n",
      " 5   DOLocationID           65338 non-null  int64         \n",
      "dtypes: datetime64[ns](2), float64(2), int64(2)\n",
      "memory usage: 3.5 MB\n"
     ]
    }
   ],
   "source": [
    "trip_df1.info()"
   ]
  },
  {
   "cell_type": "code",
   "execution_count": 55,
   "id": "fe7e9943-bd57-4878-acf8-9f1f0f918df6",
   "metadata": {},
   "outputs": [
    {
     "data": {
      "text/html": [
       "<div>\n",
       "<style scoped>\n",
       "    .dataframe tbody tr th:only-of-type {\n",
       "        vertical-align: middle;\n",
       "    }\n",
       "\n",
       "    .dataframe tbody tr th {\n",
       "        vertical-align: top;\n",
       "    }\n",
       "\n",
       "    .dataframe thead th {\n",
       "        text-align: right;\n",
       "    }\n",
       "</style>\n",
       "<table border=\"1\" class=\"dataframe\">\n",
       "  <thead>\n",
       "    <tr style=\"text-align: right;\">\n",
       "      <th></th>\n",
       "      <th>tpep_pickup_datetime</th>\n",
       "      <th>tpep_dropoff_datetime</th>\n",
       "      <th>passenger_count</th>\n",
       "      <th>trip_distance</th>\n",
       "      <th>PULocationID</th>\n",
       "      <th>DOLocationID</th>\n",
       "    </tr>\n",
       "  </thead>\n",
       "  <tbody>\n",
       "    <tr>\n",
       "      <th>count</th>\n",
       "      <td>65338</td>\n",
       "      <td>65338</td>\n",
       "      <td>59586.000000</td>\n",
       "      <td>65300.000000</td>\n",
       "      <td>65338.000000</td>\n",
       "      <td>65338.000000</td>\n",
       "    </tr>\n",
       "    <tr>\n",
       "      <th>mean</th>\n",
       "      <td>2023-07-14 06:08:39.728488704</td>\n",
       "      <td>2023-07-14 06:39:30.737396480</td>\n",
       "      <td>1.101584</td>\n",
       "      <td>5.265004</td>\n",
       "      <td>159.112216</td>\n",
       "      <td>144.976843</td>\n",
       "    </tr>\n",
       "    <tr>\n",
       "      <th>min</th>\n",
       "      <td>2023-01-01 00:00:00</td>\n",
       "      <td>2023-01-01 00:16:00</td>\n",
       "      <td>1.000000</td>\n",
       "      <td>0.000000</td>\n",
       "      <td>3.000000</td>\n",
       "      <td>1.000000</td>\n",
       "    </tr>\n",
       "    <tr>\n",
       "      <th>25%</th>\n",
       "      <td>2023-04-14 22:27:30</td>\n",
       "      <td>2023-04-14 22:48:00</td>\n",
       "      <td>1.000000</td>\n",
       "      <td>0.630000</td>\n",
       "      <td>81.000000</td>\n",
       "      <td>74.000000</td>\n",
       "    </tr>\n",
       "    <tr>\n",
       "      <th>50%</th>\n",
       "      <td>2023-07-20 14:43:00</td>\n",
       "      <td>2023-07-20 15:22:30</td>\n",
       "      <td>1.000000</td>\n",
       "      <td>3.250000</td>\n",
       "      <td>168.000000</td>\n",
       "      <td>159.000000</td>\n",
       "    </tr>\n",
       "    <tr>\n",
       "      <th>75%</th>\n",
       "      <td>2023-10-14 11:47:00</td>\n",
       "      <td>2023-10-14 12:11:00</td>\n",
       "      <td>1.000000</td>\n",
       "      <td>8.200000</td>\n",
       "      <td>235.000000</td>\n",
       "      <td>215.000000</td>\n",
       "    </tr>\n",
       "    <tr>\n",
       "      <th>max</th>\n",
       "      <td>2023-12-31 23:56:00</td>\n",
       "      <td>2024-01-01 00:16:00</td>\n",
       "      <td>6.000000</td>\n",
       "      <td>30.000000</td>\n",
       "      <td>259.000000</td>\n",
       "      <td>265.000000</td>\n",
       "    </tr>\n",
       "    <tr>\n",
       "      <th>std</th>\n",
       "      <td>NaN</td>\n",
       "      <td>NaN</td>\n",
       "      <td>0.474226</td>\n",
       "      <td>5.778058</td>\n",
       "      <td>75.532920</td>\n",
       "      <td>76.350241</td>\n",
       "    </tr>\n",
       "  </tbody>\n",
       "</table>\n",
       "</div>"
      ],
      "text/plain": [
       "                tpep_pickup_datetime          tpep_dropoff_datetime  \\\n",
       "count                          65338                          65338   \n",
       "mean   2023-07-14 06:08:39.728488704  2023-07-14 06:39:30.737396480   \n",
       "min              2023-01-01 00:00:00            2023-01-01 00:16:00   \n",
       "25%              2023-04-14 22:27:30            2023-04-14 22:48:00   \n",
       "50%              2023-07-20 14:43:00            2023-07-20 15:22:30   \n",
       "75%              2023-10-14 11:47:00            2023-10-14 12:11:00   \n",
       "max              2023-12-31 23:56:00            2024-01-01 00:16:00   \n",
       "std                              NaN                            NaN   \n",
       "\n",
       "       passenger_count  trip_distance  PULocationID  DOLocationID  \n",
       "count     59586.000000   65300.000000  65338.000000  65338.000000  \n",
       "mean          1.101584       5.265004    159.112216    144.976843  \n",
       "min           1.000000       0.000000      3.000000      1.000000  \n",
       "25%           1.000000       0.630000     81.000000     74.000000  \n",
       "50%           1.000000       3.250000    168.000000    159.000000  \n",
       "75%           1.000000       8.200000    235.000000    215.000000  \n",
       "max           6.000000      30.000000    259.000000    265.000000  \n",
       "std           0.474226       5.778058     75.532920     76.350241  "
      ]
     },
     "execution_count": 55,
     "metadata": {},
     "output_type": "execute_result"
    }
   ],
   "source": [
    "trip_df1.describe()"
   ]
  },
  {
   "cell_type": "code",
   "execution_count": 56,
   "id": "53eac8b4-546d-4ead-9695-b9ffbe70b9d0",
   "metadata": {},
   "outputs": [
    {
     "name": "stdout",
     "output_type": "stream",
     "text": [
      "<class 'pandas.core.frame.DataFrame'>\n",
      "Index: 47980 entries, 0 to 64690\n",
      "Data columns (total 6 columns):\n",
      " #   Column                 Non-Null Count  Dtype         \n",
      "---  ------                 --------------  -----         \n",
      " 0   tpep_pickup_datetime   47980 non-null  datetime64[ns]\n",
      " 1   tpep_dropoff_datetime  47980 non-null  datetime64[ns]\n",
      " 2   passenger_count        47980 non-null  float64       \n",
      " 3   trip_distance          47980 non-null  float64       \n",
      " 4   PULocationID           47980 non-null  int64         \n",
      " 5   DOLocationID           47980 non-null  int64         \n",
      "dtypes: datetime64[ns](2), float64(2), int64(2)\n",
      "memory usage: 2.6 MB\n"
     ]
    }
   ],
   "source": [
    "trip_df2.info()"
   ]
  },
  {
   "cell_type": "code",
   "execution_count": 57,
   "id": "af4758c0-7283-4d4b-b823-364dd3a0eb97",
   "metadata": {},
   "outputs": [
    {
     "data": {
      "text/html": [
       "<div>\n",
       "<style scoped>\n",
       "    .dataframe tbody tr th:only-of-type {\n",
       "        vertical-align: middle;\n",
       "    }\n",
       "\n",
       "    .dataframe tbody tr th {\n",
       "        vertical-align: top;\n",
       "    }\n",
       "\n",
       "    .dataframe thead th {\n",
       "        text-align: right;\n",
       "    }\n",
       "</style>\n",
       "<table border=\"1\" class=\"dataframe\">\n",
       "  <thead>\n",
       "    <tr style=\"text-align: right;\">\n",
       "      <th></th>\n",
       "      <th>tpep_pickup_datetime</th>\n",
       "      <th>tpep_dropoff_datetime</th>\n",
       "      <th>passenger_count</th>\n",
       "      <th>trip_distance</th>\n",
       "      <th>PULocationID</th>\n",
       "      <th>DOLocationID</th>\n",
       "    </tr>\n",
       "  </thead>\n",
       "  <tbody>\n",
       "    <tr>\n",
       "      <th>count</th>\n",
       "      <td>47980</td>\n",
       "      <td>47980</td>\n",
       "      <td>47980.000000</td>\n",
       "      <td>47980.000000</td>\n",
       "      <td>47980.000000</td>\n",
       "      <td>47980.000000</td>\n",
       "    </tr>\n",
       "    <tr>\n",
       "      <th>mean</th>\n",
       "      <td>2023-07-15 06:01:22.448103168</td>\n",
       "      <td>2023-07-15 06:34:36.376406784</td>\n",
       "      <td>1.095727</td>\n",
       "      <td>10.781878</td>\n",
       "      <td>158.968612</td>\n",
       "      <td>143.811380</td>\n",
       "    </tr>\n",
       "    <tr>\n",
       "      <th>min</th>\n",
       "      <td>2023-01-01 00:08:00</td>\n",
       "      <td>2023-01-01 00:32:00</td>\n",
       "      <td>1.000000</td>\n",
       "      <td>0.010000</td>\n",
       "      <td>3.000000</td>\n",
       "      <td>1.000000</td>\n",
       "    </tr>\n",
       "    <tr>\n",
       "      <th>25%</th>\n",
       "      <td>2023-04-18 09:15:45</td>\n",
       "      <td>2023-04-18 09:52:15</td>\n",
       "      <td>1.000000</td>\n",
       "      <td>2.040000</td>\n",
       "      <td>78.000000</td>\n",
       "      <td>74.000000</td>\n",
       "    </tr>\n",
       "    <tr>\n",
       "      <th>50%</th>\n",
       "      <td>2023-07-23 11:57:00</td>\n",
       "      <td>2023-07-23 12:11:00</td>\n",
       "      <td>1.000000</td>\n",
       "      <td>4.700000</td>\n",
       "      <td>169.000000</td>\n",
       "      <td>151.000000</td>\n",
       "    </tr>\n",
       "    <tr>\n",
       "      <th>75%</th>\n",
       "      <td>2023-10-14 02:22:15</td>\n",
       "      <td>2023-10-14 02:44:15</td>\n",
       "      <td>1.000000</td>\n",
       "      <td>9.700000</td>\n",
       "      <td>235.000000</td>\n",
       "      <td>216.000000</td>\n",
       "    </tr>\n",
       "    <tr>\n",
       "      <th>max</th>\n",
       "      <td>2023-12-31 23:53:00</td>\n",
       "      <td>2023-12-31 23:59:00</td>\n",
       "      <td>11.000000</td>\n",
       "      <td>26270.000000</td>\n",
       "      <td>259.000000</td>\n",
       "      <td>265.000000</td>\n",
       "    </tr>\n",
       "    <tr>\n",
       "      <th>std</th>\n",
       "      <td>NaN</td>\n",
       "      <td>NaN</td>\n",
       "      <td>0.469396</td>\n",
       "      <td>282.061310</td>\n",
       "      <td>76.672343</td>\n",
       "      <td>77.174972</td>\n",
       "    </tr>\n",
       "  </tbody>\n",
       "</table>\n",
       "</div>"
      ],
      "text/plain": [
       "                tpep_pickup_datetime          tpep_dropoff_datetime  \\\n",
       "count                          47980                          47980   \n",
       "mean   2023-07-15 06:01:22.448103168  2023-07-15 06:34:36.376406784   \n",
       "min              2023-01-01 00:08:00            2023-01-01 00:32:00   \n",
       "25%              2023-04-18 09:15:45            2023-04-18 09:52:15   \n",
       "50%              2023-07-23 11:57:00            2023-07-23 12:11:00   \n",
       "75%              2023-10-14 02:22:15            2023-10-14 02:44:15   \n",
       "max              2023-12-31 23:53:00            2023-12-31 23:59:00   \n",
       "std                              NaN                            NaN   \n",
       "\n",
       "       passenger_count  trip_distance  PULocationID  DOLocationID  \n",
       "count     47980.000000   47980.000000  47980.000000  47980.000000  \n",
       "mean          1.095727      10.781878    158.968612    143.811380  \n",
       "min           1.000000       0.010000      3.000000      1.000000  \n",
       "25%           1.000000       2.040000     78.000000     74.000000  \n",
       "50%           1.000000       4.700000    169.000000    151.000000  \n",
       "75%           1.000000       9.700000    235.000000    216.000000  \n",
       "max          11.000000   26270.000000    259.000000    265.000000  \n",
       "std           0.469396     282.061310     76.672343     77.174972  "
      ]
     },
     "execution_count": 57,
     "metadata": {},
     "output_type": "execute_result"
    }
   ],
   "source": [
    "trip_df2.describe()"
   ]
  },
  {
   "cell_type": "markdown",
   "id": "c0dcf211-df1a-40c9-a8ba-108fcbdfa79b",
   "metadata": {},
   "source": [
    "## Exporting Clean Data"
   ]
  },
  {
   "cell_type": "code",
   "execution_count": 58,
   "id": "720215cc-b93c-4896-969c-daa1551647da",
   "metadata": {},
   "outputs": [],
   "source": [
    "trip_df1.to_csv('../data/clean/clean_trip_data_keep_all.csv', index=False)"
   ]
  },
  {
   "cell_type": "code",
   "execution_count": 59,
   "id": "89ed80a8-5d91-4240-b7d9-f4de52698b35",
   "metadata": {},
   "outputs": [],
   "source": [
    "trip_df2.to_csv('../data/clean/clean_trip_data_dropna.csv', index=False)"
   ]
  },
  {
   "cell_type": "code",
   "execution_count": 60,
   "id": "9ec55dc8-6683-4072-9b0c-67d0cb086ee7",
   "metadata": {},
   "outputs": [],
   "source": [
    "zone_df.to_csv('../data/clean/clean_zone_data.csv', index=False)"
   ]
  },
  {
   "cell_type": "code",
   "execution_count": 61,
   "id": "73cc2f30-8dbc-4054-bd9e-65a58704cf43",
   "metadata": {},
   "outputs": [],
   "source": [
    "weather_df.to_csv('../data/clean/clean_weather_data.csv', index=False)"
   ]
  },
  {
   "cell_type": "code",
   "execution_count": null,
   "id": "ccf72be5-1049-47e5-8eb8-390b157940ca",
   "metadata": {},
   "outputs": [],
   "source": []
  }
 ],
 "metadata": {
  "kernelspec": {
   "display_name": "Python [conda env:pha]",
   "language": "python",
   "name": "conda-env-pha-py"
  },
  "language_info": {
   "codemirror_mode": {
    "name": "ipython",
    "version": 3
   },
   "file_extension": ".py",
   "mimetype": "text/x-python",
   "name": "python",
   "nbconvert_exporter": "python",
   "pygments_lexer": "ipython3",
   "version": "3.10.15"
  }
 },
 "nbformat": 4,
 "nbformat_minor": 5
}
